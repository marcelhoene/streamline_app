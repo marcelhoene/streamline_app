{
 "cells": [
  {
   "cell_type": "code",
   "execution_count": 7,
   "metadata": {},
   "outputs": [
    {
     "name": "stdout",
     "output_type": "stream",
     "text": [
      "Kontakt\n",
      "+49 176 37332692Telefon \n",
      "marcel_hoene@web.deEmail\n",
      "Bopserstraße  18 \n",
      "70180 StuttgartAdresseMarcel Hoene\n",
      "B.Sc. Maschinenbau\n",
      "Bildung \n",
      "Schwerpunktmodule: 10/2023 - 12/2023\n",
      "Data Science Bootcamp: Le Wagon Barcelona\n",
      "CAD, CAM \n",
      "Arduino/C++Matlab3D Druck (FDM, MSLA)\n",
      "Machine/Deep LearningPythonFähigkeiten\n",
      "SprachenB.Sc. Maschinenbau: Universität Stuttgart ( ⌀ 2,3)\n",
      "Bachelorthesis:  Leichtbau, Erneuerbare Energien, Energiewirtschaft \n",
      "Optimierung von PV-Anlagen unter Berücksichtigung von Wärmepumpenlastprofilen.\n",
      "Entwicklung eines Matlab Tools welche die ideale Ausrichtung und Neigung von\n",
      "Flachdachanlagen berechnet. (Note: 1,0)Vertiefung der Python Kenntnisse, praktische Umsetzung von Projekten in den Bereichen  \n",
      "Statistik, Machine Learning und Deep Learning. Verwendung von Tools wie Pandas,  Numpy,\n",
      "Scikit-Learn, Hugging Face, OpenCV, Dockern und Git.\n",
      "Projekte 15.02.1997 Geburtstag\n",
      "InteressenElektrischer Boxermotor: Bau eines 4-Zylinder-Boxermotors, der Solenoid-Magnete anstelle\n",
      "von regulären Zylindern verwendet. Die Motorsteuerung erfolgt durch einen Arduino.\n",
      "➜  Vertiefung der Kenntnisse in Arduino/C++, Analyse und Optimierung basierend auf\n",
      "physikalischen PrinzipienRezept-KI: Ein Python-Programm, das mittels Image Recognition die im Haushalt\n",
      "vorhandenen Lebensmittel scannt und anhand dieser verschiedene Rezepte vorschlägt.\n",
      "➜ Festigen des M achine Learning Know-hows, Arbeiten in einem Team an einem Software Projekt Englisch (C1)Deutsch (Muttersprache)2013 - 2016\n",
      "Abitur: Waldschule Degerloch ( ⌀ 2,7)10/2017 - 06/2023\n",
      "Soziales Engagement & Sonstiges\n",
      "2013 - 2022\n",
      "Ferienwaldheim Ehrenamt\n",
      "Ehrenamtliche Programmplanung und Betreuung für jeweils 2 Wochen  im jährlich\n",
      "stattfindetten Waldheim Dobelgarten. Gruppenleiter mit Verantwortung für Mitarbeiter und  \n",
      "ca. 25 Kinder.\n",
      "10/2016 - 04/2017\n",
      "Work and Travel - Neuseeland\n",
      "Erweiterung der Englisch Kenntnisse Realisieren eigener Ideen und\n",
      "ProjekteSport (Klettern, Joggen,\n",
      "Fußball) \n",
      "Technik- und\n",
      "Nachhaltigkeitsbegeistert Ich habe eine Leidenschaft, neue Dinge zu lernen, und erweitere mein W issen durch die\n",
      "Realisierung von Projekten, bei denen ich neue Fähigkeiten erwerbe und anwende.Berufserfahrung & Praktika\n",
      "2022-2024\n",
      "follow red GmbH\n",
      "Marken Botschafter für Sixt, BMW, AMG und TransnetBW. Direkte Kundenbetreuung vor\n",
      "Ort, Bereitstellung detaillierter Informationen und Lösungen zu Produkten und\n",
      "Dienstleistungen.\n",
      "2013-2023\n",
      "Stuttgarter Gemüsemarkt \n",
      "Zuständig für Verkauf und Logistik \n",
      "06/2018 - 08/2018\n",
      "Praktikum bei Sandvik Tooling Deutschland GmbH: \n",
      "Einführung in Fertigungs- sowie Füge- und Trennverfahren wie Drehen, Fräsen, Härten,\n",
      "Schleifen, Läppen etc.04/2024 - 06/2024\n",
      "Keyence Deutschland GmbH\n",
      "Consulting Engineer in der industriellen Bildverarbeitung. Intensivtraining an diversen  \n",
      "Bildverarbeitungsplattfromen sowie ausführlichen Vetriebsschulungen\n",
      "Spanisch  (A2)\n"
     ]
    }
   ],
   "source": [
    "from pypdf import PdfReader\n",
    "impo\n",
    "\n",
    "reader = PdfReader(\"/Users/marcelhoene/Python/Bewerbungsbot/Lebenslauf komplett .pdf\")\n",
    "page = reader.pages[0]\n",
    "print(page.extract_text())"
   ]
  },
  {
   "cell_type": "code",
   "execution_count": 4,
   "metadata": {},
   "outputs": [
    {
     "ename": "AttributeError",
     "evalue": "type object 'PdfReader' has no attribute 'get_info'",
     "output_type": "error",
     "traceback": [
      "\u001b[0;31m---------------------------------------------------------------------------\u001b[0m",
      "\u001b[0;31mAttributeError\u001b[0m                            Traceback (most recent call last)",
      "Cell \u001b[0;32mIn[4], line 1\u001b[0m\n\u001b[0;32m----> 1\u001b[0m \u001b[38;5;28mprint\u001b[39m(\u001b[43mpypdf\u001b[49m\u001b[38;5;241;43m.\u001b[39;49m\u001b[43mPdfReader\u001b[49m\u001b[38;5;241;43m.\u001b[39;49m\u001b[43mget_info\u001b[49m())\n",
      "\u001b[0;31mAttributeError\u001b[0m: type object 'PdfReader' has no attribute 'get_info'"
     ]
    }
   ],
   "source": []
  },
  {
   "cell_type": "code",
   "execution_count": null,
   "metadata": {},
   "outputs": [],
   "source": []
  }
 ],
 "metadata": {
  "kernelspec": {
   "display_name": "bewerbungsbot",
   "language": "python",
   "name": "python3"
  },
  "language_info": {
   "codemirror_mode": {
    "name": "ipython",
    "version": 3
   },
   "file_extension": ".py",
   "mimetype": "text/x-python",
   "name": "python",
   "nbconvert_exporter": "python",
   "pygments_lexer": "ipython3",
   "version": "3.10.6"
  }
 },
 "nbformat": 4,
 "nbformat_minor": 2
}
