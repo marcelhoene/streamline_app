{
 "cells": [
  {
   "cell_type": "code",
   "execution_count": 1,
   "metadata": {},
   "outputs": [],
   "source": [
    "import streamlit as st\n",
    "import fitz  # PyMuPDF\n",
    "from openai import OpenAI\n",
    "from dotenv import load_dotenv\n",
    "import os\n"
   ]
  },
  {
   "cell_type": "code",
   "execution_count": 2,
   "metadata": {},
   "outputs": [],
   "source": [
    "st.session_state.chat_log = [\n",
    "            {\"role\": \"system\", \"content\": \"\"\"du bist ein Motivationschreiben Ersteller,\n",
    "                schreibe aus dem Lebenslauf und dem Zeugnis was du bekommst ein ansprechendes\n",
    "                Motivationsschreiben für den Bewerber zu erstellen. Versuche dabei explizit\n",
    "                die Stärken des Bewerbers mit den Anforderungen der Jobbeschreibung in Einklang zu bringen.\n",
    "                Die Jobbeschreibung bekommst du in der zweiten Nachricht als Text übergeben. Wichtig ist, dass du nichts erfindest\n",
    "                und alles mit den gegebenen Informationen belegst. Du sollst nur den reinen Text ausgeben, Kopf und Fußzeilen sind nicht nötig.\n",
    "            \"\"\"},\n",
    "            {\"role\": \"user\", \"content\": \" was sind die größten länder\"}\n",
    "        ]"
   ]
  },
  {
   "cell_type": "code",
   "execution_count": 9,
   "metadata": {},
   "outputs": [
    {
     "name": "stdout",
     "output_type": "stream",
     "text": [
      "du bist ein Motivationschreiben Ersteller,\n",
      "                schreibe aus dem Lebenslauf und dem Zeugnis was du bekommst ein ansprechendes\n",
      "                Motivationsschreiben für den Bewerber zu erstellen. Versuche dabei explizit\n",
      "                die Stärken des Bewerbers mit den Anforderungen der Jobbeschreibung in Einklang zu bringen.\n",
      "                Die Jobbeschreibung bekommst du in der zweiten Nachricht als Text übergeben. Wichtig ist, dass du nichts erfindest\n",
      "                und alles mit den gegebenen Informationen belegst. Du sollst nur den reinen Text ausgeben, Kopf und Fußzeilen sind nicht nötig.\n",
      "            \n"
     ]
    }
   ],
   "source": [
    "for message in st.session_state.chat_log:\n",
    "    if message['role'] ==\"system\":\n",
    "        print (message[\"content\"])\n"
   ]
  },
  {
   "cell_type": "code",
   "execution_count": null,
   "metadata": {},
   "outputs": [],
   "source": []
  }
 ],
 "metadata": {
  "kernelspec": {
   "display_name": "bewerbungsbot",
   "language": "python",
   "name": "python3"
  },
  "language_info": {
   "codemirror_mode": {
    "name": "ipython",
    "version": 3
   },
   "file_extension": ".py",
   "mimetype": "text/x-python",
   "name": "python",
   "nbconvert_exporter": "python",
   "pygments_lexer": "ipython3",
   "version": "3.10.6"
  }
 },
 "nbformat": 4,
 "nbformat_minor": 2
}
